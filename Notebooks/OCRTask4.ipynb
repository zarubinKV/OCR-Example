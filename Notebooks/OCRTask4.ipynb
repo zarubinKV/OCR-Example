{
  "cells": [
    {
      "cell_type": "code",
      "execution_count": 1,
      "metadata": {
        "id": "Nhkur4tJQLzN"
      },
      "outputs": [],
      "source": [
        "import torch\n",
        "import torch.nn as nn\n",
        "import torch.nn.functional as F"
      ]
    },
    {
      "cell_type": "code",
      "execution_count": 2,
      "metadata": {
        "id": "nNuJiVgeQbTi"
      },
      "outputs": [],
      "source": [
        "import sys\n",
        "from itertools import groupby"
      ]
    },
    {
      "cell_type": "code",
      "execution_count": 3,
      "metadata": {
        "colab": {
          "base_uri": "https://localhost:8080/"
        },
        "id": "4NSvAqylQl4H",
        "outputId": "11fd477b-4fe8-45f1-b19b-5d5ae3ac05a5"
      },
      "outputs": [
        {
          "output_type": "stream",
          "name": "stdout",
          "text": [
            "Looking in indexes: https://pypi.org/simple, https://us-python.pkg.dev/colab-wheels/public/simple/\n",
            "Requirement already satisfied: colorama in /usr/local/lib/python3.10/dist-packages (0.4.6)\n"
          ]
        }
      ],
      "source": [
        "!pip install colorama"
      ]
    },
    {
      "cell_type": "code",
      "execution_count": 4,
      "metadata": {
        "id": "ot3Ud89zQcKi"
      },
      "outputs": [],
      "source": [
        "import matplotlib as mpl\n",
        "import matplotlib.pyplot as plt\n",
        "import torch.utils.data as data_utils\n",
        "from colorama import Fore\n",
        "from tqdm import tqdm"
      ]
    },
    {
      "cell_type": "code",
      "execution_count": 5,
      "metadata": {
        "id": "ZIdKtJANdXQg"
      },
      "outputs": [],
      "source": [
        "from typing import Tuple, Union"
      ]
    },
    {
      "cell_type": "code",
      "execution_count": 6,
      "metadata": {
        "id": "iRb07azadUfM"
      },
      "outputs": [],
      "source": [
        "import numpy as np\n",
        "import torch\n",
        "import torchvision.transforms.functional as TF\n",
        "from torch.utils.data import Dataset\n",
        "from torchvision import datasets, transforms"
      ]
    },
    {
      "cell_type": "code",
      "execution_count": 7,
      "metadata": {
        "id": "h1sgQ9bdVz58"
      },
      "outputs": [],
      "source": [
        "class CapchaDataset(Dataset):\n",
        "    \"\"\"\n",
        "    Датасет генерирует капчу длины seq_len из набора данных EMNIST\n",
        "    \"\"\"\n",
        "\n",
        "    def __init__(\n",
        "        self,\n",
        "        seq_len: Union[int, Tuple[int, int]],\n",
        "        img_h: int = 28,\n",
        "        split: str = \"digits\",\n",
        "        samples: int = None,\n",
        "    ):\n",
        "        self.emnist_dataset = datasets.EMNIST(\n",
        "            \"./EMNIST\", split=split, train=True, download=True\n",
        "        )\n",
        "        self.seq_len = seq_len\n",
        "        self.blank_label = len(self.emnist_dataset.classes)\n",
        "        self.img_h = img_h\n",
        "        self.samples = samples\n",
        "        self.num_classes = len(self.emnist_dataset.classes) + 1\n",
        "        if isinstance(seq_len, int):\n",
        "            self._min_seq_len = seq_len\n",
        "            self._max_seq_len = seq_len\n",
        "        elif (\n",
        "            isinstance(seq_len, Tuple)\n",
        "            and len(seq_len) == 2\n",
        "            and isinstance(seq_len[0], int)\n",
        "        ):\n",
        "            self._min_seq_len = seq_len[0]\n",
        "            self._max_seq_len = seq_len[1]\n",
        "\n",
        "    def __len__(self):\n",
        "        \"\"\"\n",
        "        Можно нагенерировать N различных капчей, где N - число сочетаний с повторениями.\n",
        "        Если задано samples - вернуть его\n",
        "        \"\"\"\n",
        "        if self.samples is not None:\n",
        "            return self.samples\n",
        "        return len(self.emnist_dataset.classes) ** self._max_seq_len\n",
        "\n",
        "    def __preprocess(self, random_images: torch.Tensor) -> np.ndarray:\n",
        "        transformed_images = []\n",
        "        for img in random_images:\n",
        "            img = transforms.ToPILImage()(img)\n",
        "            img = TF.rotate(img, -90, fill=[0.0])\n",
        "            img = TF.hflip(img)\n",
        "            img = transforms.ToTensor()(img).numpy()\n",
        "            transformed_images.append(img)\n",
        "        images = np.array(transformed_images)\n",
        "        images = np.hstack(\n",
        "            images.reshape((len(transformed_images), self.img_h, self.img_h))\n",
        "        )\n",
        "        full_img = np.zeros(shape=(self.img_h, self._max_seq_len * self.img_h)).astype(\n",
        "            np.float32\n",
        "        )\n",
        "        full_img[:, 0 : images.shape[1]] = images\n",
        "        return full_img\n",
        "\n",
        "    def __getitem__(self, idx):\n",
        "        # Get random seq_len\n",
        "        random_seq_len = np.random.randint(self._min_seq_len, self._max_seq_len + 1)\n",
        "        # Get random ind\n",
        "        random_indices = np.random.randint(\n",
        "            len(self.emnist_dataset.data), size=(random_seq_len,)\n",
        "        )\n",
        "        random_images = self.emnist_dataset.data[random_indices]\n",
        "        random_digits_labels = self.emnist_dataset.targets[random_indices]\n",
        "        labels = torch.zeros((1, self._max_seq_len))\n",
        "        labels = torch.fill(labels, self.blank_label)\n",
        "        labels[0, 0 : len(random_digits_labels)] = random_digits_labels\n",
        "        x = self.__preprocess(random_images)\n",
        "        y = labels.numpy().reshape(self._max_seq_len)\n",
        "        return x, y\n",
        "\n",
        "        \n",
        "# if __name__ == \"__main__\":\n",
        "#     # от 3 до 5 символов\n",
        "#     ds = CapchaDataset((3, 5))\n",
        "#     data_loader = torch.utils.data.DataLoader(ds, batch_size=2)\n",
        "#     for i, (x_batch, y_batch) in enumerate(data_loader):\n",
        "#         print(i)\n",
        "#         for img, label in zip(x_batch, y_batch):\n",
        "#             plt.imshow(img)\n",
        "#             title = [str(n) for n in label.numpy()]\n",
        "#             plt.title(\"\".join(title))\n",
        "#             plt.show()"
      ]
    },
    {
      "cell_type": "code",
      "execution_count": 8,
      "metadata": {
        "id": "IjWCzxiqQPZo"
      },
      "outputs": [],
      "source": [
        "class CRNN(nn.Module):\n",
        "    def __init__(self, cnn_output_height, gru_hidden_size, gru_num_layers, num_classes):\n",
        "        super(CRNN, self).__init__()\n",
        "        self.conv1 = nn.Conv2d(1, 64, kernel_size=(3, 3), stride=1, padding=1)\n",
        "        self.maxpool1 = nn.MaxPool2d(2, stride=2)\n",
        "        self.conv2 = nn.Conv2d(64, 128, kernel_size=(3, 3), stride=1, padding=1)\n",
        "        self.maxpool2 = nn.MaxPool2d(2, stride=2)\n",
        "        self.conv3 = nn.Conv2d(128, 256, kernel_size=(3, 3), stride=1, padding=1)\n",
        "        self.conv4 = nn.Conv2d(256, 256, kernel_size=(3, 3), stride=1, padding=1)\n",
        "        self.maxpool3 = nn.MaxPool2d((1, 2), stride=2)\n",
        "        self.conv5 = nn.Conv2d(256, 512, kernel_size=(3, 3), stride=1, padding=1)\n",
        "        self.norm1 = nn.InstanceNorm2d(512)\n",
        "        self.conv6 = nn.Conv2d(512, 512, kernel_size=(3, 3), stride=1, padding=1)\n",
        "        self.norm2 = nn.InstanceNorm2d(512)\n",
        "        self.maxpool4 = nn.MaxPool2d((1, 2), stride=2)\n",
        "        self.conv7 = nn.Conv2d(512, 512, kernel_size=(2, 2), stride=1, padding=0)\n",
        "\n",
        "        self.map_to_seq = nn.Linear(512 * 1, 64) #original  last 64\n",
        "\n",
        "        self.rnn1 = nn.LSTM(64, gru_hidden_size , bidirectional=True)#64\n",
        "        self.rnn2 = nn.LSTM(2 * gru_hidden_size , gru_hidden_size , bidirectional=True) #2*256 original\n",
        "\n",
        "        self.fc = nn.Linear(gru_hidden_size * 2, num_classes)\n",
        "\n",
        "    def forward(self, x):\n",
        "        batch_size = x.shape[0]\n",
        "        out = self.conv1(x)\n",
        "        out = F.leaky_relu(out)\n",
        "        out = self.maxpool1(out)\n",
        "        out = self.conv2(out)\n",
        "        out = F.leaky_relu(out)\n",
        "        out = self.maxpool2(out)\n",
        "        out = self.conv3(out)\n",
        "        out = F.leaky_relu(out)\n",
        "        out = self.conv4(out)\n",
        "        out = F.leaky_relu(out)\n",
        "        out = self.maxpool3(out)\n",
        "        out = self.conv5(out)\n",
        "        out = self.norm1(out)\n",
        "        out = F.leaky_relu(out)\n",
        "        out = self.conv6(out)\n",
        "        out = self.norm2(out)\n",
        "        out = F.leaky_relu(out)\n",
        "        out = self.maxpool3(out)\n",
        "        out = self.conv7(out)\n",
        "        out = F.leaky_relu(out)\n",
        "\n",
        "        batch, channel, height, width = out.size()\n",
        "\n",
        "        out = out.view(batch, channel * height, width)\n",
        "        out = out.permute(2, 0, 1)  # (width, batch, feature)\n",
        "        seq = self.map_to_seq(out)\n",
        "\n",
        "        recurrent, _ = self.rnn1(seq)\n",
        "        recurrent, _ = self.rnn2(recurrent)\n",
        "\n",
        "\n",
        "        output = torch.stack(\n",
        "            [F.log_softmax(self.fc(recurrent[i]), dim=-1) for i in range(recurrent.shape[0])]\n",
        "        )\n",
        "        return output"
      ]
    },
    {
      "cell_type": "code",
      "execution_count": 18,
      "metadata": {
        "id": "OBdWQ4eLQW_x"
      },
      "outputs": [],
      "source": [
        "gpu = torch.device(\"cuda\")\n",
        "epochs = 20"
      ]
    },
    {
      "cell_type": "code",
      "execution_count": 19,
      "metadata": {
        "id": "NsUZKxObTVQd"
      },
      "outputs": [],
      "source": [
        "gru_hidden_size = 256\n",
        "gru_num_layers = 2\n",
        "cnn_output_height = 4\n",
        "cnn_output_width = 7\n",
        "digits_per_sequence = 5"
      ]
    },
    {
      "cell_type": "code",
      "execution_count": 11,
      "metadata": {
        "id": "X94m2HcxTXYR"
      },
      "outputs": [],
      "source": [
        "model_save_path = \"./\""
      ]
    },
    {
      "cell_type": "code",
      "execution_count": 12,
      "metadata": {
        "id": "RkBc0PP-_K2E"
      },
      "outputs": [],
      "source": [
        "def train_one_epoch(model, criterion, optimizer, data_loader) -> None:\n",
        "    model.train()\n",
        "    train_correct = 0\n",
        "    train_total = 0\n",
        "    for x_train, y_train in tqdm(\n",
        "            data_loader,\n",
        "            position=0,\n",
        "            leave=True,\n",
        "            file=sys.stdout,\n",
        "            bar_format=\"{l_bar}%s{bar}%s{r_bar}\" % (Fore.GREEN, Fore.RESET),\n",
        "    ):\n",
        "        batch_size = x_train.shape[0]  # x_train.shape == torch.Size([64, 28, 140])\n",
        "        x_train = x_train.view(x_train.shape[0], 1, x_train.shape[1], x_train.shape[2])\n",
        "        optimizer.zero_grad()\n",
        "        y_pred = model(x_train.cuda())\n",
        "        #print(y_pred.shape)\n",
        "        #y_pred = y_pred.permute(1, 0, 2)  # y_pred.shape == torch.Size([64, 32, 11])\n",
        "        input_lengths = torch.IntTensor(batch_size).fill_(cnn_output_width)\n",
        "        #print(input_lengths.shape)\n",
        "        #print(input_lengths)\n",
        "        target_lengths = torch.IntTensor([len(t) for t in y_train])\n",
        "        loss = criterion(y_pred, y_train, input_lengths, target_lengths)\n",
        "        loss.backward()\n",
        "        optimizer.step()\n",
        "        _, max_index = torch.max(\n",
        "            y_pred, dim=2\n",
        "        )\n",
        "        for i in range(batch_size):\n",
        "            raw_prediction = list(\n",
        "                max_index[:, i].detach().cpu().numpy()\n",
        "            )\n",
        "            prediction = torch.IntTensor(\n",
        "                [c for c, _ in groupby(raw_prediction) if c != train_ds.blank_label]\n",
        "            )\n",
        "            if is_correct(prediction, y_train[i], train_ds.blank_label):\n",
        "                train_correct += 1\n",
        "            train_total += 1\n",
        "    print(\n",
        "        \"TRAINING. Correct: \",\n",
        "        train_correct,\n",
        "        \"/\",\n",
        "        train_total,\n",
        "        \"=\",\n",
        "        train_correct / train_total,\n",
        "    )\n"
      ]
    },
    {
      "cell_type": "code",
      "execution_count": 13,
      "metadata": {
        "id": "4cJNLIH5cuM2"
      },
      "outputs": [],
      "source": [
        "def is_correct(prediction, y_true, blank):\n",
        "    prediction = prediction.to(torch.int32)\n",
        "    prediction = prediction[prediction != blank]\n",
        "    y_true = y_true.to(torch.int32)\n",
        "    y_true = y_true[y_true != blank]\n",
        "    return len(prediction) == len(y_true) and torch.all(prediction.eq(y_true))\n"
      ]
    },
    {
      "cell_type": "code",
      "execution_count": 14,
      "metadata": {
        "id": "xjv9UIoEcxLu"
      },
      "outputs": [],
      "source": [
        "def evaluate(model, val_loader) -> float:\n",
        "    model.eval()\n",
        "    with torch.no_grad():\n",
        "        val_correct = 0\n",
        "        val_total = 0\n",
        "        for x_val, y_val in tqdm(\n",
        "                val_loader,\n",
        "                position=0,\n",
        "                leave=True,\n",
        "                file=sys.stdout,\n",
        "                bar_format=\"{l_bar}%s{bar}%s{r_bar}\" % (Fore.BLUE, Fore.RESET),\n",
        "        ):\n",
        "            batch_size = x_val.shape[0]\n",
        "            x_val = x_val.view(x_val.shape[0], 1, x_val.shape[1], x_val.shape[2])\n",
        "            y_pred = model(x_val.cuda())\n",
        "            #y_pred = y_pred.permute(1, 0, 2)\n",
        "            input_lengths = torch.IntTensor(batch_size).fill_(cnn_output_width)\n",
        "            target_lengths = torch.IntTensor([len(t) for t in y_val])\n",
        "            criterion(y_pred, y_val, input_lengths, target_lengths)\n",
        "            _, max_index = torch.max(y_pred, dim=2)\n",
        "            for i in range(batch_size):\n",
        "                raw_prediction = list(max_index[:, i].detach().cpu().numpy())\n",
        "                prediction = torch.IntTensor(\n",
        "                    [c for c, _ in groupby(raw_prediction) if c != train_ds.blank_label]\n",
        "                )\n",
        "                if is_correct(prediction, y_val[i], train_ds.blank_label):\n",
        "                    val_correct += 1\n",
        "                val_total += 1\n",
        "        acc = val_correct / val_total\n",
        "        print(\"TESTING. Correct: \", val_correct, \"/\", val_total, \"=\", acc)\n",
        "    return acc"
      ]
    },
    {
      "cell_type": "code",
      "execution_count": 20,
      "metadata": {
        "id": "18UyTp8Ac0QS"
      },
      "outputs": [],
      "source": [
        "def test_model(model, test_ds, number_of_test_imgs: int = 10):\n",
        "    model.eval()\n",
        "    test_loader = torch.utils.data.DataLoader(test_ds, batch_size=number_of_test_imgs)\n",
        "    test_preds = []\n",
        "    (x_test, y_test) = next(iter(test_loader))\n",
        "    y_pred = model(\n",
        "        x_test.view(x_test.shape[0], 1, x_test.shape[1], x_test.shape[2]).cuda()\n",
        "    )\n",
        "    #y_pred = y_pred.permute(1, 0, 2)\n",
        "    _, max_index = torch.max(y_pred, dim=2)\n",
        "    for i in range(x_test.shape[0]):\n",
        "        raw_prediction = list(max_index[:, i].detach().cpu().numpy())\n",
        "        prediction = torch.IntTensor(\n",
        "            [c for c, _ in groupby(raw_prediction) if c != train_ds.blank_label]\n",
        "        )\n",
        "        test_preds.append(prediction)\n",
        "\n",
        "    for j in range(len(x_test)):\n",
        "        mpl.rcParams[\"font.size\"] = 8\n",
        "        plt.imshow(x_test[j], cmap=\"gray\")\n",
        "        mpl.rcParams[\"font.size\"] = 18\n",
        "        plt.gcf().text(x=0.1, y=0.1, s=\"Actual: \" + str(y_test[j].numpy()))\n",
        "        plt.gcf().text(x=0.1, y=0.2, s=\"Predicted: \" + str(test_preds[j].numpy()))\n",
        "        plt.savefig(f\"./plot_{j}.png\")\n",
        "        # plt.show()"
      ]
    },
    {
      "cell_type": "code",
      "execution_count": 21,
      "metadata": {
        "colab": {
          "base_uri": "https://localhost:8080/",
          "height": 1000
        },
        "id": "LcFRbLNvc3Yk",
        "outputId": "e166d87d-3600-46fc-8c5f-c011ebc975c6"
      },
      "outputs": [
        {
          "output_type": "stream",
          "name": "stdout",
          "text": [
            "Epoch: 1/20\n",
            "100%|\u001b[32m██████████\u001b[39m| 1563/1563 [03:39<00:00,  7.11it/s]\n",
            "TRAINING. Correct:  81452 / 100000 = 0.81452\n",
            "100%|\u001b[34m██████████\u001b[39m| 100/100 [00:00<00:00, 230.61it/s]\n",
            "TESTING. Correct:  92 / 100 = 0.92\n",
            "Epoch: 2/20\n",
            "100%|\u001b[32m██████████\u001b[39m| 1563/1563 [03:40<00:00,  7.09it/s]\n",
            "TRAINING. Correct:  95780 / 100000 = 0.9578\n",
            "100%|\u001b[34m██████████\u001b[39m| 100/100 [00:00<00:00, 250.28it/s]\n",
            "TESTING. Correct:  94 / 100 = 0.94\n",
            "Epoch: 3/20\n",
            "100%|\u001b[32m██████████\u001b[39m| 1563/1563 [03:35<00:00,  7.26it/s]\n",
            "TRAINING. Correct:  96718 / 100000 = 0.96718\n",
            "100%|\u001b[34m██████████\u001b[39m| 100/100 [00:00<00:00, 247.65it/s]\n",
            "TESTING. Correct:  97 / 100 = 0.97\n",
            "Epoch: 4/20\n",
            "100%|\u001b[32m██████████\u001b[39m| 1563/1563 [03:34<00:00,  7.30it/s]\n",
            "TRAINING. Correct:  97361 / 100000 = 0.97361\n",
            "100%|\u001b[34m██████████\u001b[39m| 100/100 [00:00<00:00, 235.14it/s]\n",
            "TESTING. Correct:  99 / 100 = 0.99\n",
            "Epoch: 5/20\n",
            "100%|\u001b[32m██████████\u001b[39m| 1563/1563 [03:30<00:00,  7.41it/s]\n",
            "TRAINING. Correct:  97712 / 100000 = 0.97712\n",
            "100%|\u001b[34m██████████\u001b[39m| 100/100 [00:00<00:00, 266.56it/s]\n",
            "TESTING. Correct:  98 / 100 = 0.98\n",
            "Epoch: 6/20\n",
            "100%|\u001b[32m██████████\u001b[39m| 1563/1563 [03:27<00:00,  7.52it/s]\n",
            "TRAINING. Correct:  97997 / 100000 = 0.97997\n",
            "100%|\u001b[34m██████████\u001b[39m| 100/100 [00:00<00:00, 269.53it/s]\n",
            "TESTING. Correct:  100 / 100 = 1.0\n",
            "Epoch: 7/20\n",
            "100%|\u001b[32m██████████\u001b[39m| 1563/1563 [03:27<00:00,  7.55it/s]\n",
            "TRAINING. Correct:  98238 / 100000 = 0.98238\n",
            "100%|\u001b[34m██████████\u001b[39m| 100/100 [00:00<00:00, 269.46it/s]\n",
            "TESTING. Correct:  100 / 100 = 1.0\n",
            "Epoch: 8/20\n",
            "100%|\u001b[32m██████████\u001b[39m| 1563/1563 [03:27<00:00,  7.55it/s]\n",
            "TRAINING. Correct:  98271 / 100000 = 0.98271\n",
            "100%|\u001b[34m██████████\u001b[39m| 100/100 [00:00<00:00, 253.25it/s]\n",
            "TESTING. Correct:  97 / 100 = 0.97\n",
            "Epoch: 9/20\n",
            "100%|\u001b[32m██████████\u001b[39m| 1563/1563 [03:39<00:00,  7.11it/s]\n",
            "TRAINING. Correct:  98578 / 100000 = 0.98578\n",
            "100%|\u001b[34m██████████\u001b[39m| 100/100 [00:00<00:00, 258.35it/s]\n",
            "TESTING. Correct:  100 / 100 = 1.0\n",
            "Epoch: 10/20\n",
            "100%|\u001b[32m██████████\u001b[39m| 1563/1563 [03:38<00:00,  7.16it/s]\n",
            "TRAINING. Correct:  98300 / 100000 = 0.983\n",
            "100%|\u001b[34m██████████\u001b[39m| 100/100 [00:00<00:00, 188.70it/s]\n",
            "TESTING. Correct:  98 / 100 = 0.98\n",
            "Epoch: 11/20\n",
            "100%|\u001b[32m██████████\u001b[39m| 1563/1563 [03:37<00:00,  7.17it/s]\n",
            "TRAINING. Correct:  98531 / 100000 = 0.98531\n",
            "100%|\u001b[34m██████████\u001b[39m| 100/100 [00:00<00:00, 247.14it/s]\n",
            "TESTING. Correct:  95 / 100 = 0.95\n",
            "Epoch: 12/20\n",
            "100%|\u001b[32m██████████\u001b[39m| 1563/1563 [03:35<00:00,  7.24it/s]\n",
            "TRAINING. Correct:  98545 / 100000 = 0.98545\n",
            "100%|\u001b[34m██████████\u001b[39m| 100/100 [00:00<00:00, 254.30it/s]\n",
            "TESTING. Correct:  97 / 100 = 0.97\n",
            "Epoch: 13/20\n",
            "100%|\u001b[32m██████████\u001b[39m| 1563/1563 [03:35<00:00,  7.24it/s]\n",
            "TRAINING. Correct:  98638 / 100000 = 0.98638\n",
            "100%|\u001b[34m██████████\u001b[39m| 100/100 [00:00<00:00, 249.99it/s]\n",
            "TESTING. Correct:  98 / 100 = 0.98\n",
            "Epoch: 14/20\n",
            "100%|\u001b[32m██████████\u001b[39m| 1563/1563 [03:35<00:00,  7.25it/s]\n",
            "TRAINING. Correct:  98588 / 100000 = 0.98588\n",
            "100%|\u001b[34m██████████\u001b[39m| 100/100 [00:00<00:00, 251.13it/s]\n",
            "TESTING. Correct:  99 / 100 = 0.99\n",
            "Epoch: 15/20\n",
            "100%|\u001b[32m██████████\u001b[39m| 1563/1563 [03:35<00:00,  7.24it/s]\n",
            "TRAINING. Correct:  98490 / 100000 = 0.9849\n",
            "100%|\u001b[34m██████████\u001b[39m| 100/100 [00:00<00:00, 242.91it/s]\n",
            "TESTING. Correct:  96 / 100 = 0.96\n",
            "Epoch: 16/20\n",
            "100%|\u001b[32m██████████\u001b[39m| 1563/1563 [03:34<00:00,  7.30it/s]\n",
            "TRAINING. Correct:  98290 / 100000 = 0.9829\n",
            "100%|\u001b[34m██████████\u001b[39m| 100/100 [00:00<00:00, 249.05it/s]\n",
            "TESTING. Correct:  99 / 100 = 0.99\n",
            "Epoch: 17/20\n",
            "100%|\u001b[32m██████████\u001b[39m| 1563/1563 [03:32<00:00,  7.37it/s]\n",
            "TRAINING. Correct:  98654 / 100000 = 0.98654\n",
            "100%|\u001b[34m██████████\u001b[39m| 100/100 [00:00<00:00, 187.91it/s]\n",
            "TESTING. Correct:  99 / 100 = 0.99\n",
            "Epoch: 18/20\n",
            "100%|\u001b[32m██████████\u001b[39m| 1563/1563 [03:32<00:00,  7.37it/s]\n",
            "TRAINING. Correct:  98606 / 100000 = 0.98606\n",
            "100%|\u001b[34m██████████\u001b[39m| 100/100 [00:00<00:00, 246.24it/s]\n",
            "TESTING. Correct:  99 / 100 = 0.99\n",
            "Epoch: 19/20\n",
            "100%|\u001b[32m██████████\u001b[39m| 1563/1563 [03:31<00:00,  7.38it/s]\n",
            "TRAINING. Correct:  98790 / 100000 = 0.9879\n",
            "100%|\u001b[34m██████████\u001b[39m| 100/100 [00:00<00:00, 254.05it/s]\n",
            "TESTING. Correct:  97 / 100 = 0.97\n",
            "Epoch: 20/20\n",
            "100%|\u001b[32m██████████\u001b[39m| 1563/1563 [03:31<00:00,  7.41it/s]\n",
            "TRAINING. Correct:  98159 / 100000 = 0.98159\n",
            "100%|\u001b[34m██████████\u001b[39m| 100/100 [00:00<00:00, 188.22it/s]\n",
            "TESTING. Correct:  98 / 100 = 0.98\n"
          ]
        },
        {
          "output_type": "display_data",
          "data": {
            "text/plain": [
              "<Figure size 640x480 with 1 Axes>"
            ],
            "image/png": "[encoded data removed]"
          },
          "metadata": {}
        }
      ],
      "source": [
        "if __name__ == \"__main__\":\n",
        "    train_ds = CapchaDataset((4, 5))\n",
        "    test_ds = CapchaDataset((4, 5), samples=100)\n",
        "    train_loader = torch.utils.data.DataLoader(train_ds, batch_size=64)\n",
        "    val_loader = torch.utils.data.DataLoader(test_ds, batch_size=1)\n",
        "\n",
        "    model = CRNN(\n",
        "        cnn_output_height, gru_hidden_size, gru_num_layers, train_ds.num_classes\n",
        "    ).to(gpu)\n",
        "    # model.load_state_dict(torch.load(\"./checkpoints/checkpoint_5.pt\"))\n",
        "\n",
        "    criterion = nn.CTCLoss(\n",
        "        blank=train_ds.blank_label, reduction=\"mean\", zero_infinity=True\n",
        "    )\n",
        "    optimizer = torch.optim.Adam(model.parameters(), lr=0.001)\n",
        "\n",
        "    current_acc = 0\n",
        "    for epoch in range(1, epochs + 1):\n",
        "        print(f\"Epoch: {epoch}/{epochs}\")\n",
        "        train_one_epoch(model, criterion, optimizer, train_loader)\n",
        "        acc = evaluate(model, val_loader)\n",
        "        if acc > current_acc:\n",
        "            model_out_name = model_save_path + f\"/checkpoint_{epoch}.pt\"\n",
        "            torch.save(model.state_dict(), model_out_name)\n",
        "\n",
        "    test_model(model, test_ds)"
      ]
    },
    {
      "cell_type": "code",
      "source": [],
      "metadata": {
        "id": "Tg0NAIKjVTY_"
      },
      "execution_count": null,
      "outputs": []
    }
  ],
  "metadata": {
    "accelerator": "GPU",
    "colab": {
      "provenance": [],
      "gpuType": "T4"
    },
    "kernelspec": {
      "display_name": "Python 3",
      "name": "python3"
    },
    "language_info": {
      "name": "python"
    }
  },
  "nbformat": 4,
  "nbformat_minor": 0
}